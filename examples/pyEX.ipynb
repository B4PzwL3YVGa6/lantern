{
 "cells": [
  {
   "cell_type": "code",
   "execution_count": 1,
   "metadata": {},
   "outputs": [],
   "source": [
    "%%capture\n",
    "import lantern as l\n",
    "from perspective import psp"
   ]
  },
  {
   "cell_type": "code",
   "execution_count": 2,
   "metadata": {},
   "outputs": [],
   "source": [
    "x = l.run()"
   ]
  },
  {
   "cell_type": "code",
   "execution_count": 3,
   "metadata": {},
   "outputs": [
    {
     "data": {
      "application/psp+json": {
       "data": "comm://8d3af878-ffbb-430c-9cf1-b4c9bdd7877c/lantern.live/0",
       "layout": "{\"view\":\"hypergrid\",\"columns\":\"\",\"row-pivots\":\"\",\"column-pivots\":\"\",\"aggregates\":\"\"}"
      }
     },
     "metadata": {},
     "output_type": "display_data"
    }
   ],
   "source": [
    "psp(x)"
   ]
  },
  {
   "cell_type": "code",
   "execution_count": 4,
   "metadata": {},
   "outputs": [],
   "source": [
    "import pyEX.marketdata.ws as pmw"
   ]
  },
  {
   "cell_type": "code",
   "execution_count": 5,
   "metadata": {},
   "outputs": [],
   "source": [
    "z = pmw.topsWS('snap,fb', x.on_data)"
   ]
  },
  {
   "cell_type": "code",
   "execution_count": 6,
   "metadata": {},
   "outputs": [
    {
     "name": "stderr",
     "output_type": "stream",
     "text": [
      "ERROR:root:Internal Python error in the inspect module.\n",
      "Below is the traceback from this internal error.\n",
      "\n"
     ]
    },
    {
     "name": "stdout",
     "output_type": "stream",
     "text": [
      "Traceback (most recent call last):\n",
      "  File \"/usr/local/lib/python3.6/site-packages/IPython/core/interactiveshell.py\", line 2910, in run_code\n",
      "    exec(code_obj, self.user_global_ns, self.user_ns)\n",
      "  File \"<ipython-input-6-449512ab5d19>\", line 1, in <module>\n",
      "    z.run()\n",
      "  File \"/usr/local/lib/python3.6/site-packages/pyEX-0.0.4-py3.6.egg/pyEX/common.py\", line 77, in run\n",
      "    self.socketIO.wait()\n",
      "  File \"/usr/local/lib/python3.6/site-packages/socketIO_client_nexus/__init__.py\", line 251, in wait\n",
      "    self._process_packets()\n",
      "  File \"/usr/local/lib/python3.6/site-packages/socketIO_client_nexus/__init__.py\", line 276, in _process_packets\n",
      "    for engineIO_packet in self._transport.recv_packet():\n",
      "  File \"/usr/local/lib/python3.6/site-packages/socketIO_client_nexus/transports.py\", line 146, in recv_packet\n",
      "    packet_text = self._connection.recv()\n",
      "  File \"/usr/local/lib/python3.6/site-packages/websocket/_core.py\", line 293, in recv\n",
      "    opcode, data = self.recv_data()\n",
      "  File \"/usr/local/lib/python3.6/site-packages/websocket/_core.py\", line 310, in recv_data\n",
      "    opcode, frame = self.recv_data_frame(control_frame)\n",
      "  File \"/usr/local/lib/python3.6/site-packages/websocket/_core.py\", line 323, in recv_data_frame\n",
      "    frame = self.recv_frame()\n",
      "  File \"/usr/local/lib/python3.6/site-packages/websocket/_core.py\", line 357, in recv_frame\n",
      "    return self.frame_buffer.recv_frame()\n",
      "  File \"/usr/local/lib/python3.6/site-packages/websocket/_abnf.py\", line 340, in recv_frame\n",
      "    self.recv_header()\n",
      "  File \"/usr/local/lib/python3.6/site-packages/websocket/_abnf.py\", line 288, in recv_header\n",
      "    header = self.recv_strict(2)\n",
      "  File \"/usr/local/lib/python3.6/site-packages/websocket/_abnf.py\", line 375, in recv_strict\n",
      "    bytes_ = self.recv(min(16384, shortage))\n",
      "  File \"/usr/local/lib/python3.6/site-packages/websocket/_core.py\", line 427, in _recv\n",
      "    return recv(self.sock, bufsize)\n",
      "  File \"/usr/local/lib/python3.6/site-packages/websocket/_socket.py\", line 80, in recv\n",
      "    bytes_ = sock.recv(bufsize)\n",
      "  File \"/usr/local/Cellar/python3/3.6.3/Frameworks/Python.framework/Versions/3.6/lib/python3.6/ssl.py\", line 994, in recv\n",
      "    return self.read(buflen)\n",
      "  File \"/usr/local/Cellar/python3/3.6.3/Frameworks/Python.framework/Versions/3.6/lib/python3.6/ssl.py\", line 871, in read\n",
      "    return self._sslobj.read(len, buffer)\n",
      "  File \"/usr/local/Cellar/python3/3.6.3/Frameworks/Python.framework/Versions/3.6/lib/python3.6/ssl.py\", line 633, in read\n",
      "    v = self._sslobj.read(len)\n",
      "KeyboardInterrupt\n",
      "\n",
      "During handling of the above exception, another exception occurred:\n",
      "\n",
      "Traceback (most recent call last):\n",
      "  File \"/usr/local/lib/python3.6/site-packages/IPython/core/interactiveshell.py\", line 1828, in showtraceback\n",
      "    stb = value._render_traceback_()\n",
      "AttributeError: 'KeyboardInterrupt' object has no attribute '_render_traceback_'\n",
      "\n",
      "During handling of the above exception, another exception occurred:\n",
      "\n",
      "Traceback (most recent call last):\n",
      "  File \"/usr/local/lib/python3.6/site-packages/IPython/core/ultratb.py\", line 1090, in get_records\n",
      "    return _fixed_getinnerframes(etb, number_of_lines_of_context, tb_offset)\n",
      "  File \"/usr/local/lib/python3.6/site-packages/IPython/core/ultratb.py\", line 311, in wrapped\n",
      "    return f(*args, **kwargs)\n",
      "  File \"/usr/local/lib/python3.6/site-packages/IPython/core/ultratb.py\", line 345, in _fixed_getinnerframes\n",
      "    records = fix_frame_records_filenames(inspect.getinnerframes(etb, context))\n",
      "  File \"/usr/local/Cellar/python3/3.6.3/Frameworks/Python.framework/Versions/3.6/lib/python3.6/inspect.py\", line 1480, in getinnerframes\n",
      "    frameinfo = (tb.tb_frame,) + getframeinfo(tb, context)\n",
      "  File \"/usr/local/Cellar/python3/3.6.3/Frameworks/Python.framework/Versions/3.6/lib/python3.6/inspect.py\", line 1438, in getframeinfo\n",
      "    filename = getsourcefile(frame) or getfile(frame)\n",
      "  File \"/usr/local/Cellar/python3/3.6.3/Frameworks/Python.framework/Versions/3.6/lib/python3.6/inspect.py\", line 693, in getsourcefile\n",
      "    if getattr(getmodule(object, filename), '__loader__', None) is not None:\n",
      "  File \"/usr/local/Cellar/python3/3.6.3/Frameworks/Python.framework/Versions/3.6/lib/python3.6/inspect.py\", line 739, in getmodule\n",
      "    os.path.realpath(f)] = module.__name__\n",
      "KeyboardInterrupt\n"
     ]
    },
    {
     "ename": "KeyboardInterrupt",
     "evalue": "",
     "output_type": "error",
     "traceback": [
      "\u001b[0;31m---------------------------------------------------------------------------\u001b[0m"
     ]
    }
   ],
   "source": [
    "z.run()"
   ]
  },
  {
   "cell_type": "code",
   "execution_count": null,
   "metadata": {},
   "outputs": [],
   "source": []
  },
  {
   "cell_type": "code",
   "execution_count": 1,
   "metadata": {},
   "outputs": [],
   "source": [
    "import pyEX"
   ]
  },
  {
   "cell_type": "code",
   "execution_count": 9,
   "metadata": {},
   "outputs": [
    {
     "data": {
      "application/psp+json": {
       "data": "[{\"index\":0,\"change\":-0.9,\"changeOverTime\":0.0,\"changePercent\":-0.508,\"close\":176.19,\"date\":\"2018-01-16\",\"high\":179.39,\"label\":\"Jan 16\",\"low\":176.14,\"open\":177.9,\"unadjustedVolume\":29565947,\"volume\":29565947,\"vwap\":177.5125},{\"index\":1,\"change\":2.91,\"changeOverTime\":0.0165162609,\"changePercent\":1.652,\"close\":179.1,\"date\":\"2018-01-17\",\"high\":179.25,\"label\":\"Jan 17\",\"low\":175.07,\"open\":176.15,\"unadjustedVolume\":34386836,\"volume\":34386836,\"vwap\":177.2462},{\"index\":2,\"change\":0.16,\"changeOverTime\":0.0174243714,\"changePercent\":0.089,\"close\":179.26,\"date\":\"2018-01-18\",\"high\":180.1,\"label\":\"Jan 18\",\"low\":178.25,\"open\":179.37,\"unadjustedVolume\":31193352,\"volume\":31193352,\"vwap\":179.3767},{\"index\":3,\"change\":-0.8,\"changeOverTime\":0.0128838186,\"changePercent\":-0.446,\"close\":178.46,\"date\":\"2018-01-19\",\"high\":179.58,\"label\":\"Jan 19\",\"low\":177.41,\"open\":178.61,\"unadjustedVolume\":32425067,\"volume\":32425067,\"vwap\":178.4102},{\"index\":4,\"change\":-1.46,\"changeOverTime\":0.0045973097,\"changePercent\":-0.818,\"close\":177.0,\"date\":\"2018-01-22\",\"high\":177.78,\"label\":\"Jan 22\",\"low\":176.6016,\"open\":177.3,\"unadjustedVolume\":27108551,\"volume\":27108551,\"vwap\":177.1134},{\"index\":5,\"change\":0.04,\"changeOverTime\":0.0048243374,\"changePercent\":0.023,\"close\":177.04,\"date\":\"2018-01-23\",\"high\":179.44,\"label\":\"Jan 23\",\"low\":176.82,\"open\":177.3,\"unadjustedVolume\":32689146,\"volume\":32689146,\"vwap\":177.9783},{\"index\":6,\"change\":-2.82,\"changeOverTime\":-0.0111811113,\"changePercent\":-1.593,\"close\":174.22,\"date\":\"2018-01-24\",\"high\":177.3,\"label\":\"Jan 24\",\"low\":173.2,\"open\":177.25,\"unadjustedVolume\":51105090,\"volume\":51105090,\"vwap\":174.8114},{\"index\":7,\"change\":-3.11,\"changeOverTime\":-0.0288325104,\"changePercent\":-1.785,\"close\":171.11,\"date\":\"2018-01-25\",\"high\":174.95,\"label\":\"Jan 25\",\"low\":170.53,\"open\":174.505,\"unadjustedVolume\":41529004,\"volume\":41529004,\"vwap\":172.2657},{\"index\":8,\"change\":0.4,\"changeOverTime\":-0.026562234,\"changePercent\":0.234,\"close\":171.51,\"date\":\"2018-01-26\",\"high\":172.0,\"label\":\"Jan 26\",\"low\":170.06,\"open\":172.0,\"unadjustedVolume\":39143011,\"volume\":39143011,\"vwap\":171.0399},{\"index\":9,\"change\":-3.55,\"changeOverTime\":-0.0467109371,\"changePercent\":-2.07,\"close\":167.96,\"date\":\"2018-01-29\",\"high\":170.16,\"label\":\"Jan 29\",\"low\":167.07,\"open\":170.16,\"unadjustedVolume\":50640406,\"volume\":50640406,\"vwap\":168.3171},{\"index\":10,\"change\":-0.99,\"changeOverTime\":-0.0523298712,\"changePercent\":-0.589,\"close\":166.97,\"date\":\"2018-01-30\",\"high\":167.37,\"label\":\"Jan 30\",\"low\":164.7,\"open\":165.525,\"unadjustedVolume\":46048185,\"volume\":46048185,\"vwap\":166.214},{\"index\":11,\"change\":0.46,\"changeOverTime\":-0.0497190533,\"changePercent\":0.275,\"close\":167.43,\"date\":\"2018-01-31\",\"high\":168.4417,\"label\":\"Jan 31\",\"low\":166.5,\"open\":166.87,\"unadjustedVolume\":32478930,\"volume\":32478930,\"vwap\":167.345},{\"index\":12,\"change\":0.35,\"changeOverTime\":-0.0477325614,\"changePercent\":0.209,\"close\":167.78,\"date\":\"2018-02-01\",\"high\":168.62,\"label\":\"Feb 1\",\"low\":166.76,\"open\":167.165,\"unadjustedVolume\":47230787,\"volume\":47230787,\"vwap\":167.6021},{\"index\":13,\"change\":-7.28,\"changeOverTime\":-0.089051592,\"changePercent\":-4.339,\"close\":160.5,\"date\":\"2018-02-02\",\"high\":166.8,\"label\":\"Feb 2\",\"low\":160.1,\"open\":166.0,\"unadjustedVolume\":86593825,\"volume\":86593825,\"vwap\":162.728},{\"index\":14,\"change\":-4.01,\"changeOverTime\":-0.111811113,\"changePercent\":-2.498,\"close\":156.49,\"date\":\"2018-02-05\",\"high\":163.88,\"label\":\"Feb 5\",\"low\":156.0,\"open\":159.1,\"unadjustedVolume\":72738522,\"volume\":72738522,\"vwap\":160.5384},{\"index\":15,\"change\":6.54,\"changeOverTime\":-0.0746920938,\"changePercent\":4.179,\"close\":163.03,\"date\":\"2018-02-06\",\"high\":163.72,\"label\":\"Feb 6\",\"low\":154.0,\"open\":154.83,\"unadjustedVolume\":68243838,\"volume\":68243838,\"vwap\":159.6072},{\"index\":16,\"change\":-3.49,\"changeOverTime\":-0.0945002554,\"changePercent\":-2.141,\"close\":159.54,\"date\":\"2018-02-07\",\"high\":163.4,\"label\":\"Feb 7\",\"low\":159.0685,\"open\":163.085,\"unadjustedVolume\":51608580,\"volume\":51608580,\"vwap\":161.0779},{\"index\":17,\"change\":-4.39,\"changeOverTime\":-0.119416539,\"changePercent\":-2.752,\"close\":155.15,\"date\":\"2018-02-08\",\"high\":161.0,\"label\":\"Feb 8\",\"low\":155.03,\"open\":160.29,\"unadjustedVolume\":54390516,\"volume\":54390516,\"vwap\":158.9999},{\"index\":18,\"change\":1.26,\"changeOverTime\":-0.1122651683,\"changePercent\":0.812,\"close\":156.41,\"date\":\"2018-02-09\",\"high\":157.89,\"label\":\"Feb 9\",\"low\":150.24,\"open\":157.07,\"unadjustedVolume\":70672608,\"volume\":70672608,\"vwap\":154.855},{\"index\":19,\"change\":6.3,\"changeOverTime\":-0.0765083149,\"changePercent\":4.028,\"close\":162.71,\"date\":\"2018-02-12\",\"high\":163.89,\"label\":\"Feb 12\",\"low\":157.51,\"open\":158.5,\"unadjustedVolume\":60819539,\"volume\":60819539,\"vwap\":161.4833},{\"index\":20,\"change\":1.63,\"changeOverTime\":-0.0672569385,\"changePercent\":1.002,\"close\":164.34,\"date\":\"2018-02-13\",\"high\":164.75,\"label\":\"Feb 13\",\"low\":161.65,\"open\":161.95,\"unadjustedVolume\":32549163,\"volume\":32549163,\"vwap\":163.3488},{\"index\":21,\"change\":3.03,\"changeOverTime\":-0.0500595948,\"changePercent\":1.844,\"close\":167.37,\"date\":\"2018-02-14\",\"high\":167.54,\"label\":\"Feb 14\",\"low\":162.88,\"open\":163.045,\"unadjustedVolume\":40644933,\"volume\":40644933,\"vwap\":165.5906},{\"index\":22,\"change\":5.62,\"changeOverTime\":-0.0181622112,\"changePercent\":3.358,\"close\":172.99,\"date\":\"2018-02-15\",\"high\":173.09,\"label\":\"Feb 15\",\"low\":169.0,\"open\":169.79,\"unadjustedVolume\":51147171,\"volume\":51147171,\"vwap\":171.4911},{\"index\":23,\"change\":-0.56,\"changeOverTime\":-0.0213405982,\"changePercent\":-0.324,\"close\":172.43,\"date\":\"2018-02-16\",\"high\":174.82,\"label\":\"Feb 16\",\"low\":171.77,\"open\":172.36,\"unadjustedVolume\":40176091,\"volume\":40176091,\"vwap\":173.4476}]",
       "layout": "{\"view\":\"vertical\",\"columns\":[\"open\",\"close\"],\"row-pivots\":\"\",\"column-pivots\":\"\",\"aggregates\":\"\"}"
      }
     },
     "metadata": {},
     "output_type": "display_data"
    }
   ],
   "source": [
    "psp(pyEX.chartDF('aapl'), 'vertical', ['open','close'])"
   ]
  },
  {
   "cell_type": "code",
   "execution_count": 7,
   "metadata": {},
   "outputs": [
    {
     "data": {
      "text/plain": [
       "\u001b[0;31mSignature:\u001b[0m \u001b[0mpsp\u001b[0m\u001b[0;34m(\u001b[0m\u001b[0mdata\u001b[0m\u001b[0;34m,\u001b[0m \u001b[0mview\u001b[0m\u001b[0;34m=\u001b[0m\u001b[0;34m'hypergrid'\u001b[0m\u001b[0;34m,\u001b[0m \u001b[0mcolumns\u001b[0m\u001b[0;34m=\u001b[0m\u001b[0;32mNone\u001b[0m\u001b[0;34m,\u001b[0m \u001b[0mrowpivots\u001b[0m\u001b[0;34m=\u001b[0m\u001b[0;32mNone\u001b[0m\u001b[0;34m,\u001b[0m \u001b[0mcolumnpivots\u001b[0m\u001b[0;34m=\u001b[0m\u001b[0;32mNone\u001b[0m\u001b[0;34m,\u001b[0m \u001b[0maggregates\u001b[0m\u001b[0;34m=\u001b[0m\u001b[0;32mNone\u001b[0m\u001b[0;34m,\u001b[0m \u001b[0msettings\u001b[0m\u001b[0;34m=\u001b[0m\u001b[0;32mFalse\u001b[0m\u001b[0;34m)\u001b[0m\u001b[0;34m\u001b[0m\u001b[0m\n",
       "\u001b[0;31mSource:\u001b[0m   \n",
       "\u001b[0;32mdef\u001b[0m \u001b[0mpsp\u001b[0m\u001b[0;34m(\u001b[0m\u001b[0mdata\u001b[0m\u001b[0;34m,\u001b[0m \u001b[0mview\u001b[0m\u001b[0;34m=\u001b[0m\u001b[0;34m'hypergrid'\u001b[0m\u001b[0;34m,\u001b[0m \u001b[0mcolumns\u001b[0m\u001b[0;34m=\u001b[0m\u001b[0;32mNone\u001b[0m\u001b[0;34m,\u001b[0m \u001b[0mrowpivots\u001b[0m\u001b[0;34m=\u001b[0m\u001b[0;32mNone\u001b[0m\u001b[0;34m,\u001b[0m \u001b[0mcolumnpivots\u001b[0m\u001b[0;34m=\u001b[0m\u001b[0;32mNone\u001b[0m\u001b[0;34m,\u001b[0m \u001b[0maggregates\u001b[0m\u001b[0;34m=\u001b[0m\u001b[0;32mNone\u001b[0m\u001b[0;34m,\u001b[0m \u001b[0msettings\u001b[0m\u001b[0;34m=\u001b[0m\u001b[0;32mFalse\u001b[0m\u001b[0;34m)\u001b[0m\u001b[0;34m:\u001b[0m\u001b[0;34m\u001b[0m\n",
       "\u001b[0;34m\u001b[0m    \u001b[0;34m'''Render a perspective javascript widget in jupyter\u001b[0m\n",
       "\u001b[0;34m\u001b[0m\n",
       "\u001b[0;34m    Arguments:\u001b[0m\n",
       "\u001b[0;34m        data {dataframe or live source} -- The static or live datasource\u001b[0m\n",
       "\u001b[0;34m\u001b[0m\n",
       "\u001b[0;34m    Keyword Arguments:\u001b[0m\n",
       "\u001b[0;34m        view {str/View} -- what view to use. available in the enum View (default: {'hypergrid'})\u001b[0m\n",
       "\u001b[0;34m        columns {[string]} -- what columns to display\u001b[0m\n",
       "\u001b[0;34m        rowpivots {[string]} -- what names to use as rowpivots\u001b[0m\n",
       "\u001b[0;34m        columnpivots {[string]} -- what names to use as columnpivots\u001b[0m\n",
       "\u001b[0;34m        aggregates {dict(str, str/Aggregate)} -- dictionary of name to aggregate type (either string or enum Aggregate)\u001b[0m\n",
       "\u001b[0;34m        settings {bool} -- display settings\u001b[0m\n",
       "\u001b[0;34m    '''\u001b[0m\u001b[0;34m\u001b[0m\n",
       "\u001b[0;34m\u001b[0m    \u001b[0;32mfrom\u001b[0m \u001b[0mIPython\u001b[0m\u001b[0;34m.\u001b[0m\u001b[0mdisplay\u001b[0m \u001b[0;32mimport\u001b[0m \u001b[0mdisplay\u001b[0m\u001b[0;34m\u001b[0m\n",
       "\u001b[0;34m\u001b[0m    \u001b[0mbundle\u001b[0m \u001b[0;34m=\u001b[0m \u001b[0;34m{\u001b[0m\u001b[0;34m}\u001b[0m\u001b[0;34m\u001b[0m\n",
       "\u001b[0;34m\u001b[0m    \u001b[0mbundle\u001b[0m\u001b[0;34m[\u001b[0m\u001b[0;34m'application/psp+json'\u001b[0m\u001b[0;34m]\u001b[0m \u001b[0;34m=\u001b[0m \u001b[0;34m{\u001b[0m\u001b[0;34m\u001b[0m\n",
       "\u001b[0;34m\u001b[0m        \u001b[0;34m'data'\u001b[0m\u001b[0;34m:\u001b[0m \u001b[0m_type_detect\u001b[0m\u001b[0;34m(\u001b[0m\u001b[0mdata\u001b[0m\u001b[0;34m)\u001b[0m\u001b[0;34m,\u001b[0m\u001b[0;34m\u001b[0m\n",
       "\u001b[0;34m\u001b[0m        \u001b[0;34m'layout'\u001b[0m\u001b[0;34m:\u001b[0m \u001b[0m_layout\u001b[0m\u001b[0;34m(\u001b[0m\u001b[0mview\u001b[0m\u001b[0;34m,\u001b[0m \u001b[0mcolumns\u001b[0m\u001b[0;34m,\u001b[0m \u001b[0mrowpivots\u001b[0m\u001b[0;34m,\u001b[0m \u001b[0mcolumnpivots\u001b[0m\u001b[0;34m,\u001b[0m \u001b[0maggregates\u001b[0m\u001b[0;34m,\u001b[0m \u001b[0msettings\u001b[0m\u001b[0;34m)\u001b[0m\u001b[0;34m\u001b[0m\n",
       "\u001b[0;34m\u001b[0m    \u001b[0;34m}\u001b[0m\u001b[0;34m\u001b[0m\n",
       "\u001b[0;34m\u001b[0m    \u001b[0;32mreturn\u001b[0m \u001b[0mdisplay\u001b[0m\u001b[0;34m(\u001b[0m\u001b[0mbundle\u001b[0m\u001b[0;34m,\u001b[0m \u001b[0mraw\u001b[0m\u001b[0;34m=\u001b[0m\u001b[0;32mTrue\u001b[0m\u001b[0;34m)\u001b[0m\u001b[0;34m\u001b[0m\u001b[0m\n",
       "\u001b[0;31mFile:\u001b[0m      /usr/local/lib/python3.6/site-packages/perspective_python-0.0.3-py3.6.egg/perspective/psp.py\n",
       "\u001b[0;31mType:\u001b[0m      function\n"
      ]
     },
     "metadata": {},
     "output_type": "display_data"
    }
   ],
   "source": [
    "psp??"
   ]
  },
  {
   "cell_type": "code",
   "execution_count": null,
   "metadata": {},
   "outputs": [],
   "source": []
  }
 ],
 "metadata": {
  "kernelspec": {
   "display_name": "Python 3",
   "language": "python",
   "name": "python3"
  },
  "language_info": {
   "codemirror_mode": {
    "name": "ipython",
    "version": 3
   },
   "file_extension": ".py",
   "mimetype": "text/x-python",
   "name": "python",
   "nbconvert_exporter": "python",
   "pygments_lexer": "ipython3",
   "version": "3.6.3"
  }
 },
 "nbformat": 4,
 "nbformat_minor": 2
}
