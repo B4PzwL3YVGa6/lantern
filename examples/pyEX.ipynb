{
 "cells": [
  {
   "cell_type": "code",
   "execution_count": 1,
   "metadata": {},
   "outputs": [],
   "source": [
    "%%capture\n",
    "import lantern as l\n",
    "from perspective import psp"
   ]
  },
  {
   "cell_type": "code",
   "execution_count": 2,
   "metadata": {},
   "outputs": [],
   "source": [
    "x = l.run()"
   ]
  },
  {
   "cell_type": "code",
   "execution_count": 3,
   "metadata": {},
   "outputs": [
    {
     "data": {
      "application/psp+json": {
       "data": "comm://b194892d-1663-4e5b-a095-cf82b335021c/lantern.live/0",
       "layout": "{\"view\":\"hypergrid\",\"columns\":\"\",\"row-pivots\":\"\",\"column-pivots\":\"\",\"aggregates\":\"\"}"
      }
     },
     "metadata": {},
     "output_type": "display_data"
    }
   ],
   "source": [
    "psp(x)"
   ]
  },
  {
   "cell_type": "code",
   "execution_count": 4,
   "metadata": {},
   "outputs": [],
   "source": [
    "import pyEX.marketdata.ws as pmw"
   ]
  },
  {
   "cell_type": "code",
   "execution_count": 5,
   "metadata": {},
   "outputs": [],
   "source": [
    "z = pmw.topsWS('snap,fb', x.on_data)"
   ]
  },
  {
   "cell_type": "code",
   "execution_count": 6,
   "metadata": {},
   "outputs": [
    {
     "ename": "IndexError",
     "evalue": "index out of range",
     "output_type": "error",
     "traceback": [
      "\u001b[0;31m---------------------------------------------------------------------------\u001b[0m",
      "\u001b[0;31mIndexError\u001b[0m                                Traceback (most recent call last)",
      "\u001b[0;32m<ipython-input-6-449512ab5d19>\u001b[0m in \u001b[0;36m<module>\u001b[0;34m()\u001b[0m\n\u001b[0;32m----> 1\u001b[0;31m \u001b[0mz\u001b[0m\u001b[0;34m.\u001b[0m\u001b[0mrun\u001b[0m\u001b[0;34m(\u001b[0m\u001b[0;34m)\u001b[0m\u001b[0;34m\u001b[0m\u001b[0m\n\u001b[0m",
      "\u001b[0;32m/usr/local/lib/python3.6/site-packages/pyEX-0.0.2-py3.6.egg/pyEX/common.py\u001b[0m in \u001b[0;36mrun\u001b[0;34m(self)\u001b[0m\n\u001b[1;32m     80\u001b[0m         \u001b[0;32mif\u001b[0m \u001b[0mself\u001b[0m\u001b[0;34m.\u001b[0m\u001b[0msendinit\u001b[0m\u001b[0;34m:\u001b[0m\u001b[0;34m\u001b[0m\u001b[0m\n\u001b[1;32m     81\u001b[0m             \u001b[0mself\u001b[0m\u001b[0;34m.\u001b[0m\u001b[0mnamespace\u001b[0m\u001b[0;34m.\u001b[0m\u001b[0memit\u001b[0m\u001b[0;34m(\u001b[0m\u001b[0;34m*\u001b[0m\u001b[0mself\u001b[0m\u001b[0;34m.\u001b[0m\u001b[0msendinit\u001b[0m\u001b[0;34m)\u001b[0m\u001b[0;34m\u001b[0m\u001b[0m\n\u001b[0;32m---> 82\u001b[0;31m         \u001b[0mself\u001b[0m\u001b[0;34m.\u001b[0m\u001b[0msocketIO\u001b[0m\u001b[0;34m.\u001b[0m\u001b[0mwait\u001b[0m\u001b[0;34m(\u001b[0m\u001b[0;34m)\u001b[0m\u001b[0;34m\u001b[0m\u001b[0m\n\u001b[0m\u001b[1;32m     83\u001b[0m \u001b[0;34m\u001b[0m\u001b[0m\n\u001b[1;32m     84\u001b[0m \u001b[0;34m\u001b[0m\u001b[0m\n",
      "\u001b[0;32m/usr/local/lib/python3.6/site-packages/socketIO_client_nexus/__init__.py\u001b[0m in \u001b[0;36mwait\u001b[0;34m(self, seconds, **kw)\u001b[0m\n\u001b[1;32m    249\u001b[0m             \u001b[0;32mtry\u001b[0m\u001b[0;34m:\u001b[0m\u001b[0;34m\u001b[0m\u001b[0m\n\u001b[1;32m    250\u001b[0m                 \u001b[0;32mtry\u001b[0m\u001b[0;34m:\u001b[0m\u001b[0;34m\u001b[0m\u001b[0m\n\u001b[0;32m--> 251\u001b[0;31m                     \u001b[0mself\u001b[0m\u001b[0;34m.\u001b[0m\u001b[0m_process_packets\u001b[0m\u001b[0;34m(\u001b[0m\u001b[0;34m)\u001b[0m\u001b[0;34m\u001b[0m\u001b[0m\n\u001b[0m\u001b[1;32m    252\u001b[0m                 \u001b[0;32mexcept\u001b[0m \u001b[0mTimeoutError\u001b[0m\u001b[0;34m:\u001b[0m\u001b[0;34m\u001b[0m\u001b[0m\n\u001b[1;32m    253\u001b[0m                     \u001b[0;32mpass\u001b[0m\u001b[0;34m\u001b[0m\u001b[0m\n",
      "\u001b[0;32m/usr/local/lib/python3.6/site-packages/socketIO_client_nexus/__init__.py\u001b[0m in \u001b[0;36m_process_packets\u001b[0;34m(self)\u001b[0m\n\u001b[1;32m    274\u001b[0m \u001b[0;34m\u001b[0m\u001b[0m\n\u001b[1;32m    275\u001b[0m     \u001b[0;32mdef\u001b[0m \u001b[0m_process_packets\u001b[0m\u001b[0;34m(\u001b[0m\u001b[0mself\u001b[0m\u001b[0;34m)\u001b[0m\u001b[0;34m:\u001b[0m\u001b[0;34m\u001b[0m\u001b[0m\n\u001b[0;32m--> 276\u001b[0;31m         \u001b[0;32mfor\u001b[0m \u001b[0mengineIO_packet\u001b[0m \u001b[0;32min\u001b[0m \u001b[0mself\u001b[0m\u001b[0;34m.\u001b[0m\u001b[0m_transport\u001b[0m\u001b[0;34m.\u001b[0m\u001b[0mrecv_packet\u001b[0m\u001b[0;34m(\u001b[0m\u001b[0;34m)\u001b[0m\u001b[0;34m:\u001b[0m\u001b[0;34m\u001b[0m\u001b[0m\n\u001b[0m\u001b[1;32m    277\u001b[0m             \u001b[0;32mtry\u001b[0m\u001b[0;34m:\u001b[0m\u001b[0;34m\u001b[0m\u001b[0m\n\u001b[1;32m    278\u001b[0m                 \u001b[0mself\u001b[0m\u001b[0;34m.\u001b[0m\u001b[0m_process_packet\u001b[0m\u001b[0;34m(\u001b[0m\u001b[0mengineIO_packet\u001b[0m\u001b[0;34m)\u001b[0m\u001b[0;34m\u001b[0m\u001b[0m\n",
      "\u001b[0;32m/usr/local/lib/python3.6/site-packages/socketIO_client_nexus/transports.py\u001b[0m in \u001b[0;36mrecv_packet\u001b[0;34m(self)\u001b[0m\n\u001b[1;32m    156\u001b[0m             \u001b[0mpacket_text\u001b[0m \u001b[0;34m=\u001b[0m \u001b[0mpacket_text\u001b[0m\u001b[0;34m.\u001b[0m\u001b[0mencode\u001b[0m\u001b[0;34m(\u001b[0m\u001b[0;34m'utf-8'\u001b[0m\u001b[0;34m)\u001b[0m\u001b[0;34m\u001b[0m\u001b[0m\n\u001b[1;32m    157\u001b[0m         engineIO_packet_type, engineIO_packet_data = parse_packet_text(\n\u001b[0;32m--> 158\u001b[0;31m             packet_text)\n\u001b[0m\u001b[1;32m    159\u001b[0m         \u001b[0;32myield\u001b[0m \u001b[0mengineIO_packet_type\u001b[0m\u001b[0;34m,\u001b[0m \u001b[0mengineIO_packet_data\u001b[0m\u001b[0;34m\u001b[0m\u001b[0m\n\u001b[1;32m    160\u001b[0m \u001b[0;34m\u001b[0m\u001b[0m\n",
      "\u001b[0;32m/usr/local/lib/python3.6/site-packages/socketIO_client_nexus/parsers.py\u001b[0m in \u001b[0;36mparse_packet_text\u001b[0;34m(packet_text)\u001b[0m\n\u001b[1;32m     94\u001b[0m \u001b[0;34m\u001b[0m\u001b[0m\n\u001b[1;32m     95\u001b[0m \u001b[0;32mdef\u001b[0m \u001b[0mparse_packet_text\u001b[0m\u001b[0;34m(\u001b[0m\u001b[0mpacket_text\u001b[0m\u001b[0;34m)\u001b[0m\u001b[0;34m:\u001b[0m\u001b[0;34m\u001b[0m\u001b[0m\n\u001b[0;32m---> 96\u001b[0;31m     \u001b[0mpacket_type\u001b[0m \u001b[0;34m=\u001b[0m \u001b[0mint\u001b[0m\u001b[0;34m(\u001b[0m\u001b[0mget_character\u001b[0m\u001b[0;34m(\u001b[0m\u001b[0mpacket_text\u001b[0m\u001b[0;34m,\u001b[0m \u001b[0;36m0\u001b[0m\u001b[0;34m)\u001b[0m\u001b[0;34m)\u001b[0m\u001b[0;34m\u001b[0m\u001b[0m\n\u001b[0m\u001b[1;32m     97\u001b[0m     \u001b[0mpacket_data\u001b[0m \u001b[0;34m=\u001b[0m \u001b[0mpacket_text\u001b[0m\u001b[0;34m[\u001b[0m\u001b[0;36m1\u001b[0m\u001b[0;34m:\u001b[0m\u001b[0;34m]\u001b[0m\u001b[0;34m\u001b[0m\u001b[0m\n\u001b[1;32m     98\u001b[0m     \u001b[0;32mreturn\u001b[0m \u001b[0mpacket_type\u001b[0m\u001b[0;34m,\u001b[0m \u001b[0mpacket_data\u001b[0m\u001b[0;34m\u001b[0m\u001b[0m\n",
      "\u001b[0;32m/usr/local/lib/python3.6/site-packages/socketIO_client_nexus/symmetries.py\u001b[0m in \u001b[0;36mget_character\u001b[0;34m(x, index)\u001b[0m\n\u001b[1;32m     31\u001b[0m \u001b[0;34m\u001b[0m\u001b[0m\n\u001b[1;32m     32\u001b[0m \u001b[0;32mdef\u001b[0m \u001b[0mget_character\u001b[0m\u001b[0;34m(\u001b[0m\u001b[0mx\u001b[0m\u001b[0;34m,\u001b[0m \u001b[0mindex\u001b[0m\u001b[0;34m)\u001b[0m\u001b[0;34m:\u001b[0m\u001b[0;34m\u001b[0m\u001b[0m\n\u001b[0;32m---> 33\u001b[0;31m     \u001b[0;32mreturn\u001b[0m \u001b[0mchr\u001b[0m\u001b[0;34m(\u001b[0m\u001b[0mget_byte\u001b[0m\u001b[0;34m(\u001b[0m\u001b[0mx\u001b[0m\u001b[0;34m,\u001b[0m \u001b[0mindex\u001b[0m\u001b[0;34m)\u001b[0m\u001b[0;34m)\u001b[0m\u001b[0;34m\u001b[0m\u001b[0m\n\u001b[0m\u001b[1;32m     34\u001b[0m \u001b[0;34m\u001b[0m\u001b[0m\n\u001b[1;32m     35\u001b[0m \u001b[0;34m\u001b[0m\u001b[0m\n",
      "\u001b[0;32m/usr/local/lib/python3.6/site-packages/socketIO_client_nexus/symmetries.py\u001b[0m in \u001b[0;36mget_byte\u001b[0;34m(x, index)\u001b[0m\n\u001b[1;32m     27\u001b[0m \u001b[0;34m\u001b[0m\u001b[0m\n\u001b[1;32m     28\u001b[0m \u001b[0;32mdef\u001b[0m \u001b[0mget_byte\u001b[0m\u001b[0;34m(\u001b[0m\u001b[0mx\u001b[0m\u001b[0;34m,\u001b[0m \u001b[0mindex\u001b[0m\u001b[0;34m)\u001b[0m\u001b[0;34m:\u001b[0m\u001b[0;34m\u001b[0m\u001b[0m\n\u001b[0;32m---> 29\u001b[0;31m     \u001b[0;32mreturn\u001b[0m \u001b[0mindexbytes\u001b[0m\u001b[0;34m(\u001b[0m\u001b[0mx\u001b[0m\u001b[0;34m,\u001b[0m \u001b[0mindex\u001b[0m\u001b[0;34m)\u001b[0m\u001b[0;34m\u001b[0m\u001b[0m\n\u001b[0m\u001b[1;32m     30\u001b[0m \u001b[0;34m\u001b[0m\u001b[0m\n\u001b[1;32m     31\u001b[0m \u001b[0;34m\u001b[0m\u001b[0m\n",
      "\u001b[0;31mIndexError\u001b[0m: index out of range"
     ]
    }
   ],
   "source": [
    "z.run()"
   ]
  },
  {
   "cell_type": "code",
   "execution_count": null,
   "metadata": {},
   "outputs": [],
   "source": []
  },
  {
   "cell_type": "code",
   "execution_count": 1,
   "metadata": {},
   "outputs": [],
   "source": [
    "import pyEX"
   ]
  },
  {
   "cell_type": "code",
   "execution_count": 9,
   "metadata": {},
   "outputs": [
    {
     "data": {
      "application/psp+json": {
       "data": "[{\"index\":0,\"change\":-0.9,\"changeOverTime\":0.0,\"changePercent\":-0.508,\"close\":176.19,\"date\":\"2018-01-16\",\"high\":179.39,\"label\":\"Jan 16\",\"low\":176.14,\"open\":177.9,\"unadjustedVolume\":29565947,\"volume\":29565947,\"vwap\":177.5125},{\"index\":1,\"change\":2.91,\"changeOverTime\":0.0165162609,\"changePercent\":1.652,\"close\":179.1,\"date\":\"2018-01-17\",\"high\":179.25,\"label\":\"Jan 17\",\"low\":175.07,\"open\":176.15,\"unadjustedVolume\":34386836,\"volume\":34386836,\"vwap\":177.2462},{\"index\":2,\"change\":0.16,\"changeOverTime\":0.0174243714,\"changePercent\":0.089,\"close\":179.26,\"date\":\"2018-01-18\",\"high\":180.1,\"label\":\"Jan 18\",\"low\":178.25,\"open\":179.37,\"unadjustedVolume\":31193352,\"volume\":31193352,\"vwap\":179.3767},{\"index\":3,\"change\":-0.8,\"changeOverTime\":0.0128838186,\"changePercent\":-0.446,\"close\":178.46,\"date\":\"2018-01-19\",\"high\":179.58,\"label\":\"Jan 19\",\"low\":177.41,\"open\":178.61,\"unadjustedVolume\":32425067,\"volume\":32425067,\"vwap\":178.4102},{\"index\":4,\"change\":-1.46,\"changeOverTime\":0.0045973097,\"changePercent\":-0.818,\"close\":177.0,\"date\":\"2018-01-22\",\"high\":177.78,\"label\":\"Jan 22\",\"low\":176.6016,\"open\":177.3,\"unadjustedVolume\":27108551,\"volume\":27108551,\"vwap\":177.1134},{\"index\":5,\"change\":0.04,\"changeOverTime\":0.0048243374,\"changePercent\":0.023,\"close\":177.04,\"date\":\"2018-01-23\",\"high\":179.44,\"label\":\"Jan 23\",\"low\":176.82,\"open\":177.3,\"unadjustedVolume\":32689146,\"volume\":32689146,\"vwap\":177.9783},{\"index\":6,\"change\":-2.82,\"changeOverTime\":-0.0111811113,\"changePercent\":-1.593,\"close\":174.22,\"date\":\"2018-01-24\",\"high\":177.3,\"label\":\"Jan 24\",\"low\":173.2,\"open\":177.25,\"unadjustedVolume\":51105090,\"volume\":51105090,\"vwap\":174.8114},{\"index\":7,\"change\":-3.11,\"changeOverTime\":-0.0288325104,\"changePercent\":-1.785,\"close\":171.11,\"date\":\"2018-01-25\",\"high\":174.95,\"label\":\"Jan 25\",\"low\":170.53,\"open\":174.505,\"unadjustedVolume\":41529004,\"volume\":41529004,\"vwap\":172.2657},{\"index\":8,\"change\":0.4,\"changeOverTime\":-0.026562234,\"changePercent\":0.234,\"close\":171.51,\"date\":\"2018-01-26\",\"high\":172.0,\"label\":\"Jan 26\",\"low\":170.06,\"open\":172.0,\"unadjustedVolume\":39143011,\"volume\":39143011,\"vwap\":171.0399},{\"index\":9,\"change\":-3.55,\"changeOverTime\":-0.0467109371,\"changePercent\":-2.07,\"close\":167.96,\"date\":\"2018-01-29\",\"high\":170.16,\"label\":\"Jan 29\",\"low\":167.07,\"open\":170.16,\"unadjustedVolume\":50640406,\"volume\":50640406,\"vwap\":168.3171},{\"index\":10,\"change\":-0.99,\"changeOverTime\":-0.0523298712,\"changePercent\":-0.589,\"close\":166.97,\"date\":\"2018-01-30\",\"high\":167.37,\"label\":\"Jan 30\",\"low\":164.7,\"open\":165.525,\"unadjustedVolume\":46048185,\"volume\":46048185,\"vwap\":166.214},{\"index\":11,\"change\":0.46,\"changeOverTime\":-0.0497190533,\"changePercent\":0.275,\"close\":167.43,\"date\":\"2018-01-31\",\"high\":168.4417,\"label\":\"Jan 31\",\"low\":166.5,\"open\":166.87,\"unadjustedVolume\":32478930,\"volume\":32478930,\"vwap\":167.345},{\"index\":12,\"change\":0.35,\"changeOverTime\":-0.0477325614,\"changePercent\":0.209,\"close\":167.78,\"date\":\"2018-02-01\",\"high\":168.62,\"label\":\"Feb 1\",\"low\":166.76,\"open\":167.165,\"unadjustedVolume\":47230787,\"volume\":47230787,\"vwap\":167.6021},{\"index\":13,\"change\":-7.28,\"changeOverTime\":-0.089051592,\"changePercent\":-4.339,\"close\":160.5,\"date\":\"2018-02-02\",\"high\":166.8,\"label\":\"Feb 2\",\"low\":160.1,\"open\":166.0,\"unadjustedVolume\":86593825,\"volume\":86593825,\"vwap\":162.728},{\"index\":14,\"change\":-4.01,\"changeOverTime\":-0.111811113,\"changePercent\":-2.498,\"close\":156.49,\"date\":\"2018-02-05\",\"high\":163.88,\"label\":\"Feb 5\",\"low\":156.0,\"open\":159.1,\"unadjustedVolume\":72738522,\"volume\":72738522,\"vwap\":160.5384},{\"index\":15,\"change\":6.54,\"changeOverTime\":-0.0746920938,\"changePercent\":4.179,\"close\":163.03,\"date\":\"2018-02-06\",\"high\":163.72,\"label\":\"Feb 6\",\"low\":154.0,\"open\":154.83,\"unadjustedVolume\":68243838,\"volume\":68243838,\"vwap\":159.6072},{\"index\":16,\"change\":-3.49,\"changeOverTime\":-0.0945002554,\"changePercent\":-2.141,\"close\":159.54,\"date\":\"2018-02-07\",\"high\":163.4,\"label\":\"Feb 7\",\"low\":159.0685,\"open\":163.085,\"unadjustedVolume\":51608580,\"volume\":51608580,\"vwap\":161.0779},{\"index\":17,\"change\":-4.39,\"changeOverTime\":-0.119416539,\"changePercent\":-2.752,\"close\":155.15,\"date\":\"2018-02-08\",\"high\":161.0,\"label\":\"Feb 8\",\"low\":155.03,\"open\":160.29,\"unadjustedVolume\":54390516,\"volume\":54390516,\"vwap\":158.9999},{\"index\":18,\"change\":1.26,\"changeOverTime\":-0.1122651683,\"changePercent\":0.812,\"close\":156.41,\"date\":\"2018-02-09\",\"high\":157.89,\"label\":\"Feb 9\",\"low\":150.24,\"open\":157.07,\"unadjustedVolume\":70672608,\"volume\":70672608,\"vwap\":154.855},{\"index\":19,\"change\":6.3,\"changeOverTime\":-0.0765083149,\"changePercent\":4.028,\"close\":162.71,\"date\":\"2018-02-12\",\"high\":163.89,\"label\":\"Feb 12\",\"low\":157.51,\"open\":158.5,\"unadjustedVolume\":60819539,\"volume\":60819539,\"vwap\":161.4833},{\"index\":20,\"change\":1.63,\"changeOverTime\":-0.0672569385,\"changePercent\":1.002,\"close\":164.34,\"date\":\"2018-02-13\",\"high\":164.75,\"label\":\"Feb 13\",\"low\":161.65,\"open\":161.95,\"unadjustedVolume\":32549163,\"volume\":32549163,\"vwap\":163.3488},{\"index\":21,\"change\":3.03,\"changeOverTime\":-0.0500595948,\"changePercent\":1.844,\"close\":167.37,\"date\":\"2018-02-14\",\"high\":167.54,\"label\":\"Feb 14\",\"low\":162.88,\"open\":163.045,\"unadjustedVolume\":40644933,\"volume\":40644933,\"vwap\":165.5906},{\"index\":22,\"change\":5.62,\"changeOverTime\":-0.0181622112,\"changePercent\":3.358,\"close\":172.99,\"date\":\"2018-02-15\",\"high\":173.09,\"label\":\"Feb 15\",\"low\":169.0,\"open\":169.79,\"unadjustedVolume\":51147171,\"volume\":51147171,\"vwap\":171.4911},{\"index\":23,\"change\":-0.56,\"changeOverTime\":-0.0213405982,\"changePercent\":-0.324,\"close\":172.43,\"date\":\"2018-02-16\",\"high\":174.82,\"label\":\"Feb 16\",\"low\":171.77,\"open\":172.36,\"unadjustedVolume\":40176091,\"volume\":40176091,\"vwap\":173.4476}]",
       "layout": "{\"view\":\"vertical\",\"columns\":[\"open\",\"close\"],\"row-pivots\":\"\",\"column-pivots\":\"\",\"aggregates\":\"\"}"
      }
     },
     "metadata": {},
     "output_type": "display_data"
    }
   ],
   "source": [
    "psp(pyEX.chartDF('aapl'), 'vertical', ['open','close'])"
   ]
  },
  {
   "cell_type": "code",
   "execution_count": 7,
   "metadata": {},
   "outputs": [
    {
     "data": {
      "text/plain": [
       "\u001b[0;31mSignature:\u001b[0m \u001b[0mpsp\u001b[0m\u001b[0;34m(\u001b[0m\u001b[0mdata\u001b[0m\u001b[0;34m,\u001b[0m \u001b[0mview\u001b[0m\u001b[0;34m=\u001b[0m\u001b[0;34m'hypergrid'\u001b[0m\u001b[0;34m,\u001b[0m \u001b[0mcolumns\u001b[0m\u001b[0;34m=\u001b[0m\u001b[0;32mNone\u001b[0m\u001b[0;34m,\u001b[0m \u001b[0mrowpivots\u001b[0m\u001b[0;34m=\u001b[0m\u001b[0;32mNone\u001b[0m\u001b[0;34m,\u001b[0m \u001b[0mcolumnpivots\u001b[0m\u001b[0;34m=\u001b[0m\u001b[0;32mNone\u001b[0m\u001b[0;34m,\u001b[0m \u001b[0maggregates\u001b[0m\u001b[0;34m=\u001b[0m\u001b[0;32mNone\u001b[0m\u001b[0;34m,\u001b[0m \u001b[0msettings\u001b[0m\u001b[0;34m=\u001b[0m\u001b[0;32mFalse\u001b[0m\u001b[0;34m)\u001b[0m\u001b[0;34m\u001b[0m\u001b[0m\n",
       "\u001b[0;31mSource:\u001b[0m   \n",
       "\u001b[0;32mdef\u001b[0m \u001b[0mpsp\u001b[0m\u001b[0;34m(\u001b[0m\u001b[0mdata\u001b[0m\u001b[0;34m,\u001b[0m \u001b[0mview\u001b[0m\u001b[0;34m=\u001b[0m\u001b[0;34m'hypergrid'\u001b[0m\u001b[0;34m,\u001b[0m \u001b[0mcolumns\u001b[0m\u001b[0;34m=\u001b[0m\u001b[0;32mNone\u001b[0m\u001b[0;34m,\u001b[0m \u001b[0mrowpivots\u001b[0m\u001b[0;34m=\u001b[0m\u001b[0;32mNone\u001b[0m\u001b[0;34m,\u001b[0m \u001b[0mcolumnpivots\u001b[0m\u001b[0;34m=\u001b[0m\u001b[0;32mNone\u001b[0m\u001b[0;34m,\u001b[0m \u001b[0maggregates\u001b[0m\u001b[0;34m=\u001b[0m\u001b[0;32mNone\u001b[0m\u001b[0;34m,\u001b[0m \u001b[0msettings\u001b[0m\u001b[0;34m=\u001b[0m\u001b[0;32mFalse\u001b[0m\u001b[0;34m)\u001b[0m\u001b[0;34m:\u001b[0m\u001b[0;34m\u001b[0m\n",
       "\u001b[0;34m\u001b[0m    \u001b[0;34m'''Render a perspective javascript widget in jupyter\u001b[0m\n",
       "\u001b[0;34m\u001b[0m\n",
       "\u001b[0;34m    Arguments:\u001b[0m\n",
       "\u001b[0;34m        data {dataframe or live source} -- The static or live datasource\u001b[0m\n",
       "\u001b[0;34m\u001b[0m\n",
       "\u001b[0;34m    Keyword Arguments:\u001b[0m\n",
       "\u001b[0;34m        view {str/View} -- what view to use. available in the enum View (default: {'hypergrid'})\u001b[0m\n",
       "\u001b[0;34m        columns {[string]} -- what columns to display\u001b[0m\n",
       "\u001b[0;34m        rowpivots {[string]} -- what names to use as rowpivots\u001b[0m\n",
       "\u001b[0;34m        columnpivots {[string]} -- what names to use as columnpivots\u001b[0m\n",
       "\u001b[0;34m        aggregates {dict(str, str/Aggregate)} -- dictionary of name to aggregate type (either string or enum Aggregate)\u001b[0m\n",
       "\u001b[0;34m        settings {bool} -- display settings\u001b[0m\n",
       "\u001b[0;34m    '''\u001b[0m\u001b[0;34m\u001b[0m\n",
       "\u001b[0;34m\u001b[0m    \u001b[0;32mfrom\u001b[0m \u001b[0mIPython\u001b[0m\u001b[0;34m.\u001b[0m\u001b[0mdisplay\u001b[0m \u001b[0;32mimport\u001b[0m \u001b[0mdisplay\u001b[0m\u001b[0;34m\u001b[0m\n",
       "\u001b[0;34m\u001b[0m    \u001b[0mbundle\u001b[0m \u001b[0;34m=\u001b[0m \u001b[0;34m{\u001b[0m\u001b[0;34m}\u001b[0m\u001b[0;34m\u001b[0m\n",
       "\u001b[0;34m\u001b[0m    \u001b[0mbundle\u001b[0m\u001b[0;34m[\u001b[0m\u001b[0;34m'application/psp+json'\u001b[0m\u001b[0;34m]\u001b[0m \u001b[0;34m=\u001b[0m \u001b[0;34m{\u001b[0m\u001b[0;34m\u001b[0m\n",
       "\u001b[0;34m\u001b[0m        \u001b[0;34m'data'\u001b[0m\u001b[0;34m:\u001b[0m \u001b[0m_type_detect\u001b[0m\u001b[0;34m(\u001b[0m\u001b[0mdata\u001b[0m\u001b[0;34m)\u001b[0m\u001b[0;34m,\u001b[0m\u001b[0;34m\u001b[0m\n",
       "\u001b[0;34m\u001b[0m        \u001b[0;34m'layout'\u001b[0m\u001b[0;34m:\u001b[0m \u001b[0m_layout\u001b[0m\u001b[0;34m(\u001b[0m\u001b[0mview\u001b[0m\u001b[0;34m,\u001b[0m \u001b[0mcolumns\u001b[0m\u001b[0;34m,\u001b[0m \u001b[0mrowpivots\u001b[0m\u001b[0;34m,\u001b[0m \u001b[0mcolumnpivots\u001b[0m\u001b[0;34m,\u001b[0m \u001b[0maggregates\u001b[0m\u001b[0;34m,\u001b[0m \u001b[0msettings\u001b[0m\u001b[0;34m)\u001b[0m\u001b[0;34m\u001b[0m\n",
       "\u001b[0;34m\u001b[0m    \u001b[0;34m}\u001b[0m\u001b[0;34m\u001b[0m\n",
       "\u001b[0;34m\u001b[0m    \u001b[0;32mreturn\u001b[0m \u001b[0mdisplay\u001b[0m\u001b[0;34m(\u001b[0m\u001b[0mbundle\u001b[0m\u001b[0;34m,\u001b[0m \u001b[0mraw\u001b[0m\u001b[0;34m=\u001b[0m\u001b[0;32mTrue\u001b[0m\u001b[0;34m)\u001b[0m\u001b[0;34m\u001b[0m\u001b[0m\n",
       "\u001b[0;31mFile:\u001b[0m      /usr/local/lib/python3.6/site-packages/perspective_python-0.0.3-py3.6.egg/perspective/psp.py\n",
       "\u001b[0;31mType:\u001b[0m      function\n"
      ]
     },
     "metadata": {},
     "output_type": "display_data"
    }
   ],
   "source": [
    "psp??"
   ]
  },
  {
   "cell_type": "code",
   "execution_count": null,
   "metadata": {},
   "outputs": [],
   "source": []
  }
 ],
 "metadata": {
  "kernelspec": {
   "display_name": "Python 3",
   "language": "python",
   "name": "python3"
  },
  "language_info": {
   "codemirror_mode": {
    "name": "ipython",
    "version": 3
   },
   "file_extension": ".py",
   "mimetype": "text/x-python",
   "name": "python",
   "nbconvert_exporter": "python",
   "pygments_lexer": "ipython3",
   "version": "3.6.3"
  }
 },
 "nbformat": 4,
 "nbformat_minor": 2
}
