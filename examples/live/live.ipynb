{
 "cells": [
  {
   "cell_type": "code",
   "execution_count": 1,
   "metadata": {},
   "outputs": [],
   "source": [
    "%%capture\n",
    "import lantern as l\n",
    "import lantern.live as ll\n",
    "from perspective import psp"
   ]
  },
  {
   "cell_type": "code",
   "execution_count": 2,
   "metadata": {},
   "outputs": [],
   "source": [
    "x = ll.RandomSource()\n",
    "x2 = l.run(x)"
   ]
  },
  {
   "cell_type": "code",
   "execution_count": 3,
   "metadata": {},
   "outputs": [
    {
     "data": {
      "text/plain": [
       "comm://4b0c097e-f990-428a-8f08-d11096760445/lantern.live/0"
      ]
     },
     "execution_count": 3,
     "metadata": {},
     "output_type": "execute_result"
    }
   ],
   "source": [
    "x2"
   ]
  },
  {
   "cell_type": "code",
   "execution_count": 5,
   "metadata": {},
   "outputs": [
    {
     "data": {
      "application/psp+json": {
       "config": "",
       "data": "comm://4b0c097e-f990-428a-8f08-d11096760445/lantern.live/0",
       "layout": "{\"view\":\"hypergrid\",\"columns\":\"\",\"row-pivots\":[\"key\"],\"column-pivots\":\"\",\"aggregates\":\"\",\"sort\":\"\",\"settings\":false}",
       "schema": ""
      }
     },
     "metadata": {},
     "output_type": "display_data"
    }
   ],
   "source": [
    "psp(x2, rowpivots=['key'])"
   ]
  },
  {
   "cell_type": "code",
   "execution_count": 6,
   "metadata": {},
   "outputs": [],
   "source": [
    "y = ll.RandomSource2()\n",
    "y2 = l.run(y)"
   ]
  },
  {
   "cell_type": "code",
   "execution_count": 7,
   "metadata": {},
   "outputs": [
    {
     "data": {
      "text/plain": [
       "comm://4b0c097e-f990-428a-8f08-d11096760445/lantern.live/1"
      ]
     },
     "execution_count": 7,
     "metadata": {},
     "output_type": "execute_result"
    }
   ],
   "source": [
    "y2"
   ]
  },
  {
   "cell_type": "code",
   "execution_count": 8,
   "metadata": {},
   "outputs": [
    {
     "data": {
      "application/psp+json": {
       "config": "",
       "data": "comm://4b0c097e-f990-428a-8f08-d11096760445/lantern.live/1",
       "layout": "{\"view\":\"xy_line\",\"columns\":[\"index\",\"close\"],\"row-pivots\":[\"index\"],\"column-pivots\":[\"key\"],\"aggregates\":{\"index\":\"last\"},\"sort\":\"\",\"settings\":false}",
       "schema": ""
      }
     },
     "metadata": {},
     "output_type": "display_data"
    }
   ],
   "source": [
    "psp(y2, view='xy_line', columns=['index', 'close'], rowpivots=['index'], columnpivots=['key'], aggregates={'index':'last'})"
   ]
  },
  {
   "cell_type": "code",
   "execution_count": null,
   "metadata": {},
   "outputs": [],
   "source": []
  }
 ],
 "metadata": {
  "kernelspec": {
   "display_name": "Python 3",
   "language": "python",
   "name": "python3"
  },
  "language_info": {
   "codemirror_mode": {
    "name": "ipython",
    "version": 3
   },
   "file_extension": ".py",
   "mimetype": "text/x-python",
   "name": "python",
   "nbconvert_exporter": "python",
   "pygments_lexer": "ipython3",
   "version": "3.7.0"
  }
 },
 "nbformat": 4,
 "nbformat_minor": 2
}
