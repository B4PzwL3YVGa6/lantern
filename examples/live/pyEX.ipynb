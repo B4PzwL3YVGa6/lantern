{
 "cells": [
  {
   "cell_type": "code",
   "execution_count": 1,
   "metadata": {},
   "outputs": [],
   "source": [
    "%%capture\n",
    "import lantern as l\n",
    "from perspective import psp\n",
    "import pyEX"
   ]
  },
  {
   "cell_type": "code",
   "execution_count": 2,
   "metadata": {},
   "outputs": [],
   "source": [
    "x = l.pipeline([pyEX.lastWS], ['on_data'], [{'symbols':'snap'}])"
   ]
  },
  {
   "cell_type": "code",
   "execution_count": 3,
   "metadata": {},
   "outputs": [
    {
     "data": {
      "application/psp+json": {
       "config": "",
       "data": "comm://c62d77f1-7e1c-4ec3-893a-16485e99e8c4/lantern.live/0",
       "layout": "{\"view\":\"hypergrid\",\"columns\":\"\",\"row-pivots\":\"\",\"column-pivots\":\"\",\"aggregates\":\"\",\"sort\":\"\",\"settings\":false}",
       "schema": ""
      }
     },
     "metadata": {},
     "output_type": "display_data"
    }
   ],
   "source": [
    "psp(x)"
   ]
  },
  {
   "cell_type": "code",
   "execution_count": null,
   "metadata": {},
   "outputs": [],
   "source": [
    "z = x.pipeline()\n",
    "z.run()"
   ]
  },
  {
   "cell_type": "code",
   "execution_count": null,
   "metadata": {},
   "outputs": [],
   "source": []
  }
 ],
 "metadata": {
  "kernelspec": {
   "display_name": "Python 3",
   "language": "python",
   "name": "python3"
  },
  "language_info": {
   "codemirror_mode": {
    "name": "ipython",
    "version": 3
   },
   "file_extension": ".py",
   "mimetype": "text/x-python",
   "name": "python",
   "nbconvert_exporter": "python",
   "pygments_lexer": "ipython3",
   "version": "3.7.0"
  }
 },
 "nbformat": 4,
 "nbformat_minor": 2
}
