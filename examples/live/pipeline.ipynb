{
 "cells": [
  {
   "cell_type": "code",
   "execution_count": 8,
   "metadata": {},
   "outputs": [],
   "source": [
    "%%capture\n",
    "import lantern as l\n",
    "from perspective import psp"
   ]
  },
  {
   "cell_type": "code",
   "execution_count": 9,
   "metadata": {},
   "outputs": [],
   "source": [
    "import random\n",
    "import time\n",
    "def foo1(on_data):\n",
    "    x = 0\n",
    "    while True:\n",
    "        on_data({'a': random.random(), 'b': random.randint(0,1000), 'x':x})\n",
    "        time.sleep(.1)\n",
    "        x = x+1\n",
    "        \n",
    "def foo2(data, callback):\n",
    "    callback({'a':data['a'] + 1, 'b': data['b']*100, 'c': 'AAPL', 'x': data['x']})\n",
    "    "
   ]
  },
  {
   "cell_type": "code",
   "execution_count": 10,
   "metadata": {},
   "outputs": [],
   "source": [
    "import lantern.live as ll"
   ]
  },
  {
   "cell_type": "code",
   "execution_count": 11,
   "metadata": {},
   "outputs": [],
   "source": [
    "x = ll.pipeline([foo1, foo2], ['on_data', 'callback'], sleep=.1)"
   ]
  },
  {
   "cell_type": "code",
   "execution_count": 13,
   "metadata": {},
   "outputs": [
    {
     "data": {
      "application/psp+json": {
       "config": "",
       "data": "comm://79b59486-3bd3-486f-aeef-abcf4c76d392/lantern.live/1",
       "layout": "{\"view\":\"xy_line\",\"columns\":\"\",\"row-pivots\":[\"x\"],\"column-pivots\":\"\",\"aggregates\":\"\",\"sort\":\"\",\"settings\":false}",
       "schema": "[\"x\",\"a\"]"
      }
     },
     "metadata": {},
     "output_type": "display_data"
    }
   ],
   "source": [
    "psp(x, 'xy_line', ['x', 'a'], rowpivots=['x'])"
   ]
  },
  {
   "cell_type": "code",
   "execution_count": 15,
   "metadata": {},
   "outputs": [
    {
     "data": {
      "application/psp+json": {
       "config": "",
       "data": "comm://1b30ae1c-a165-44a4-9f14-47074c5e845b/lantern.live/0",
       "layout": "{\"view\":\"line\",\"columns\":[\"x\",\"a\"],\"row-pivots\":[\"x\"],\"column-pivots\":\"\",\"aggregates\":\"\",\"sort\":\"\",\"settings\":false}"
      }
     },
     "metadata": {},
     "output_type": "display_data"
    }
   ],
   "source": [
    "psp(x, 'line', ['x', 'a'], rowpivots=['x'])"
   ]
  },
  {
   "cell_type": "code",
   "execution_count": null,
   "metadata": {},
   "outputs": [],
   "source": []
  }
 ],
 "metadata": {
  "kernelspec": {
   "display_name": "Python 3",
   "language": "python",
   "name": "python3"
  },
  "language_info": {
   "codemirror_mode": {
    "name": "ipython",
    "version": 3
   },
   "file_extension": ".py",
   "mimetype": "text/x-python",
   "name": "python",
   "nbconvert_exporter": "python",
   "pygments_lexer": "ipython3",
   "version": "3.7.0"
  }
 },
 "nbformat": 4,
 "nbformat_minor": 2
}
