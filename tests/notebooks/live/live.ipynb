{
 "cells": [
  {
   "cell_type": "code",
   "execution_count": 1,
   "metadata": {},
   "outputs": [],
   "source": [
    "%%capture\n",
    "import lantern as l\n",
    "import lantern.live as ll\n",
    "from perspective import psp"
   ]
  },
  {
   "cell_type": "code",
   "execution_count": 2,
   "metadata": {},
   "outputs": [],
   "source": [
    "x = ll.RandomSource()\n",
    "x2 = ll.RandomSource2()"
   ]
  },
  {
   "cell_type": "code",
   "execution_count": 3,
   "metadata": {},
   "outputs": [
    {
     "data": {
      "application/psp+json": {
       "data": "comm://49240a4b-317b-4e27-af96-d51099a3aece/lantern.live/0",
       "layout": "{\"view\":\"hypergrid\",\"columns\":\"\",\"row-pivots\":[\"key\"],\"column-pivots\":\"\",\"aggregates\":\"\"}"
      }
     },
     "metadata": {},
     "output_type": "display_data"
    }
   ],
   "source": [
    "psp(l.run(x), rowpivots=['key'])"
   ]
  },
  {
   "cell_type": "code",
   "execution_count": 4,
   "metadata": {},
   "outputs": [
    {
     "data": {
      "application/psp+json": {
       "data": "comm://49240a4b-317b-4e27-af96-d51099a3aece/lantern.live/1",
       "layout": "{\"view\":\"line\",\"columns\":[\"index\",\"close\"],\"row-pivots\":[\"index\"],\"column-pivots\":[\"key\"],\"aggregates\":{\"index\":\"last\"}}"
      }
     },
     "metadata": {},
     "output_type": "display_data"
    }
   ],
   "source": [
    "psp(l.run(x2), view='line', columns=['index', 'close'], rowpivots=['index'], columnpivots=['key'], aggregates={'index':'last'})"
   ]
  },
  {
   "cell_type": "code",
   "execution_count": null,
   "metadata": {},
   "outputs": [],
   "source": []
  }
 ],
 "metadata": {
  "kernelspec": {
   "display_name": "Python 3",
   "language": "python",
   "name": "python3"
  },
  "language_info": {
   "codemirror_mode": {
    "name": "ipython",
    "version": 3
   },
   "file_extension": ".py",
   "mimetype": "text/x-python",
   "name": "python",
   "nbconvert_exporter": "python",
   "pygments_lexer": "ipython3",
   "version": "3.6.3"
  }
 },
 "nbformat": 4,
 "nbformat_minor": 2
}
